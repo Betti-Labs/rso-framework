{
 "cells": [
  {
   "cell_type": "markdown",
   "id": "6e2414a3",
   "metadata": {},
   "source": [
    "# Ξ Playground\n",
    "\n",
    "This notebook provides a simple playground for exploring the **Recursive Superpositional Ontology** (RSO).\n",
    "\n",
    "It demonstrates how to use the `XiOscillator` and `XiSymbolic` classes to simulate recursive oscillations and to\n",
    "construct symbolic contradiction fields using SymPy.  You can run the cells below interactively to see how\n",
    "properties alternate between their truth and false states and how the symbolic structures grow with increasing\n",
    "recursion depth.\n",
    "\n"
   ]
  },
  {
   "cell_type": "code",
   "execution_count": null,
   "id": "7297b3f2",
   "metadata": {},
   "outputs": [],
   "source": [
    "from xi import XiOscillator, XiSymbolic, xi_operator\n",
    "\n",
    "# Create a boolean oscillator starting in the True (hot) state\n",
    "oscillator = XiOscillator(initial=True)\n",
    "history = oscillator.iterate(10)\n",
    "print(\"Oscillation history (True = hot, False = cold):\")\n",
    "print(history)\n"
   ]
  },
  {
   "cell_type": "code",
   "execution_count": null,
   "id": "70457086",
   "metadata": {},
   "outputs": [],
   "source": [
    "# Construct a symbolic predicate named 'P'\n",
    "p = XiSymbolic('P')\n",
    "# Get the base set {P, ¬P}\n",
    "print(\"Base set:\", p.base_set())\n",
    "# Build a finite Xi attractor approximation up to depth 2\n",
    "attractor = xi_operator(p, depth=2)\n",
    "print(\"Approximate Ξ(P) with depth=2 (total {} elements):\".format(len(attractor)))\n",
    "for expr in attractor:\n",
    "    print(expr)\n"
   ]
  }
 ],
 "metadata": {},
 "nbformat": 4,
 "nbformat_minor": 5
}
